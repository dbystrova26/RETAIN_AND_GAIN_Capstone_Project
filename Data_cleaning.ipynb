{
 "cells": [
  {
   "cell_type": "markdown",
   "id": "d5dbe772",
   "metadata": {},
   "source": [
    "Online Retail Dataset Attributes Info"
   ]
  },
  {
   "cell_type": "markdown",
   "id": "2f5ec22e",
   "metadata": {},
   "source": [
    "Dataset link: https://www.kaggle.com/datasets/rishikumarrajvansh/marketing-insights-for-e-commerce-company/data\n",
    "\n",
    "Coverage: 2019-01-01 → 2019-12-31\n",
    "Grain: Transactional (order lines or orders) with supporting customer, coupon, spend, and tax tables.\n",
    "Currency: USD\n",
    "\n",
    "\n",
    "1) Online_Sales.csv\n",
    "\n",
    "CustomerID — Nominal. Unique customer ID.\n",
    "\n",
    "Transaction_ID — Nominal. Unique order/transaction ID.\n",
    "\n",
    "Transaction_Date — Date. Calendar date of the order (YYYY-MM-DD).\n",
    "\n",
    "Product_SKU — Nominal. Unique product (stock) code.\n",
    "\n",
    "Product_Description — Nominal. Human-readable product name.\n",
    "\n",
    "Product_Category — Nominal. Category label (joins to Tax_Amount, Discount_Coupon).\n",
    "\n",
    "Quantity — Numeric (int ≥1). Units purchased in this line/order.\n",
    "\n",
    "Avg_Price — Numeric (currency per unit). Unit price before discount/tax; confirm gross/net in file.\n",
    "\n",
    "Delivery_Charges — Numeric (currency). Shipping/delivery fee charged on the order.\n",
    "\n",
    "Coupon_Status — Nominal. Coupon exposure/applied status or code (e.g., “NONE”, “CLICKED/APPLIED”, or a coupon code). Used to infer whether a coupon was used.\n",
    "\n",
    "Notes:\n",
    "\n",
    "If an order contains multiple SKUs, expect repeated Transaction_ID with differing Product_SKU.\n",
    "\n",
    "\n",
    "2) Customers_Data.csv\n",
    "\n",
    "CustomerID — Nominal. Unique customer ID (primary key).\n",
    "\n",
    "Gender — Nominal.  “F”, “M”.\n",
    "\n",
    "Location — Nominal. State/region string (e.g., “California”, “Illinois”, “New Jersey”, “Washington”).\n",
    "\n",
    "Tenure_Months — Numeric (int ≥0). Months since first observed purchase (at extract time).\n",
    "\n",
    "3) Discount_Coupon.csv\n",
    "\n",
    "Month — Date. First day of month “DD-MM-YYYY”.\n",
    "\n",
    "Product_Category — Nominal. Category eligible for the coupon in that month.\n",
    "\n",
    "Coupon_Code — Nominal. Code used at checkout.\n",
    "\n",
    "Discount_pct — Numeric (%). Percent discount (typical values: 10, 20, 30).\n",
    "\n",
    "\n",
    "4) Marketing_Spend.csv\n",
    "\n",
    "Date — Date. Day of spend.\n",
    "\n",
    "Offline_Spend — Numeric (currency). Not attributed to channels:TV, radio, print, OOH, etc.\n",
    "\n",
    "Online_Spend — Numeric (currency). Not attributed to channels: Paid search, social, affiliates, etc.\n",
    "\n",
    "5) Tax_Amount.csv\n",
    "\n",
    "Product_Category — Nominal. Category name (key).\n",
    "\n",
    "GST — Numeric (%). Tax rate applicable to merchandise value (confirm whether applied pre/post discount).\n"
   ]
  },
  {
   "cell_type": "code",
   "execution_count": 41,
   "id": "63031e57",
   "metadata": {},
   "outputs": [],
   "source": [
    "import pandas as pd "
   ]
  },
  {
   "cell_type": "code",
   "execution_count": 42,
   "id": "eb30c1c9",
   "metadata": {},
   "outputs": [],
   "source": [
    "CustomersData = pd.read_excel('./Data/Raw/CustomersData.xlsx')\n",
    "Discount_Coupon = pd.read_csv('./Data/Raw/Discount_Coupon.csv')\n",
    "Marketing_Spend = pd.read_csv('./Data/Raw/Marketing_Spend.csv')\n",
    "Online_Sales = pd.read_csv('./Data/Raw/Online_Sales.csv')\n",
    "Tax_amount = pd.read_excel('./Data/Raw/Tax_amount.xlsx')"
   ]
  },
  {
   "cell_type": "code",
   "execution_count": 43,
   "id": "fa2b0ad7",
   "metadata": {},
   "outputs": [],
   "source": [
    "CustomersData.rename(columns={'CustomerID':'customer_id','Gender':'gender','Location':'location','Tenure_Months':'tenure_months'},inplace=True)\n",
    "Discount_Coupon.rename(columns={'Month':'month','Product_Category':'product_category','Coupon_Code':'coupon_code','Discount_pct':'discount_pct'},inplace=True)\n",
    "Marketing_Spend.rename(columns={'Date':'date','Offline_Spend':'offline_spend','Online_Spend':'online_spend'},inplace=True)\n",
    "Online_Sales.rename(columns={'CustomerID':'customer_id','Transaction_ID':'transaction_id','Transaction_Date':'transaction_date','Product_SKU':'product_sku','Product_Description':'product_description','Product_Category':'product_category','Quantity':'quantity','Avg_Price':'avg_price','Delivery_Charges':'delivery_charges','Coupon_Status':'coupon_status'},inplace=True)\n",
    "Tax_amount.rename(columns={'Product_Category':'product_category','GST':'gst'},inplace=True)\n",
    "\n"
   ]
  },
  {
   "cell_type": "code",
   "execution_count": 47,
   "id": "b00fb422",
   "metadata": {},
   "outputs": [],
   "source": [
    "CustomersData.to_excel('./Data/CustomersData.xlsx',index=False)\n",
    "Discount_Coupon.to_csv('./Data/Discount_Coupon.csv',index=False)\n",
    "Marketing_Spend.to_csv('./Data/Marketing_Spend.csv',index=False)\n",
    "Online_Sales.to_csv('./Data/Online_Sales.csv',index=False)\n",
    "Tax_amount.to_excel('./Data/Tax_amount.xlsx',index=False)"
   ]
  }
 ],
 "metadata": {
  "kernelspec": {
   "display_name": "base",
   "language": "python",
   "name": "python3"
  },
  "language_info": {
   "codemirror_mode": {
    "name": "ipython",
    "version": 3
   },
   "file_extension": ".py",
   "mimetype": "text/x-python",
   "name": "python",
   "nbconvert_exporter": "python",
   "pygments_lexer": "ipython3",
   "version": "3.13.2"
  }
 },
 "nbformat": 4,
 "nbformat_minor": 5
}
